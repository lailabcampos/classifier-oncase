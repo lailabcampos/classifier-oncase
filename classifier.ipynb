{
 "cells": [
  {
   "cell_type": "code",
   "execution_count": 126,
   "metadata": {},
   "outputs": [],
   "source": [
    "import pandas as pd\n",
    "import numpy as np\n",
    "import tensorflow as tf\n",
    "from tensorflow import keras\n",
    "from sklearn.metrics import precision_recall_fscore_support\n",
    "import matplotlib.pyplot as plt"
   ]
  },
  {
   "cell_type": "code",
   "execution_count": 13,
   "metadata": {},
   "outputs": [
    {
     "data": {
      "text/html": [
       "<div>\n",
       "<style scoped>\n",
       "    .dataframe tbody tr th:only-of-type {\n",
       "        vertical-align: middle;\n",
       "    }\n",
       "\n",
       "    .dataframe tbody tr th {\n",
       "        vertical-align: top;\n",
       "    }\n",
       "\n",
       "    .dataframe thead th {\n",
       "        text-align: right;\n",
       "    }\n",
       "</style>\n",
       "<table border=\"1\" class=\"dataframe\">\n",
       "  <thead>\n",
       "    <tr style=\"text-align: right;\">\n",
       "      <th></th>\n",
       "      <th>x1</th>\n",
       "      <th>x2</th>\n",
       "      <th>target</th>\n",
       "    </tr>\n",
       "  </thead>\n",
       "  <tbody>\n",
       "    <tr>\n",
       "      <th>0</th>\n",
       "      <td>1.934224</td>\n",
       "      <td>-0.111822</td>\n",
       "      <td>1</td>\n",
       "    </tr>\n",
       "    <tr>\n",
       "      <th>1</th>\n",
       "      <td>1.767383</td>\n",
       "      <td>-0.976402</td>\n",
       "      <td>1</td>\n",
       "    </tr>\n",
       "    <tr>\n",
       "      <th>2</th>\n",
       "      <td>0.937101</td>\n",
       "      <td>-0.085633</td>\n",
       "      <td>1</td>\n",
       "    </tr>\n",
       "    <tr>\n",
       "      <th>3</th>\n",
       "      <td>1.340732</td>\n",
       "      <td>0.166960</td>\n",
       "      <td>1</td>\n",
       "    </tr>\n",
       "    <tr>\n",
       "      <th>4</th>\n",
       "      <td>-0.199901</td>\n",
       "      <td>-0.155204</td>\n",
       "      <td>1</td>\n",
       "    </tr>\n",
       "  </tbody>\n",
       "</table>\n",
       "</div>"
      ],
      "text/plain": [
       "         x1        x2  target\n",
       "0  1.934224 -0.111822       1\n",
       "1  1.767383 -0.976402       1\n",
       "2  0.937101 -0.085633       1\n",
       "3  1.340732  0.166960       1\n",
       "4 -0.199901 -0.155204       1"
      ]
     },
     "execution_count": 13,
     "metadata": {},
     "output_type": "execute_result"
    }
   ],
   "source": [
    "# Importing test and train databases\n",
    "\n",
    "test = pd.read_csv(r\"C:\\Users\\laila\\Documents\\ONCASE\\Cientista de dados\\classification_data\\classification_test.csv\")\n",
    "train = pd.read_csv(r\"C:\\Users\\laila\\Documents\\ONCASE\\Cientista de dados\\classification_data\\classification_train.csv\")\n",
    "\n",
    "train.head()"
   ]
  },
  {
   "cell_type": "code",
   "execution_count": 14,
   "metadata": {},
   "outputs": [],
   "source": [
    "# Splitting features and target of train dataset\n",
    "\n",
    "X_train = train.iloc[:, 0:2]\n",
    "Y_train = train.iloc[:, 2]\n",
    "\n",
    "# Splitting features and target of test dataset\n",
    "\n",
    "X_test = test.iloc[:, 0:2]\n",
    "Y_test = test.iloc[:, 2]\n"
   ]
  },
  {
   "cell_type": "code",
   "execution_count": 142,
   "metadata": {},
   "outputs": [
    {
     "data": {
      "image/png": "[encoded data removed]",
      "text/plain": [
       "<Figure size 432x288 with 1 Axes>"
      ]
     },
     "metadata": {},
     "output_type": "display_data"
    },
    {
     "data": {
      "image/png": "[encoded data removed]",
      "text/plain": [
       "<Figure size 432x288 with 1 Axes>"
      ]
     },
     "metadata": {},
     "output_type": "display_data"
    }
   ],
   "source": [
    "# Identifying relations between the features and the target\n",
    "\n",
    "plt.figure()\n",
    "plt.scatter(X_train[\"x1\"], Y_train)\n",
    "plt.scatter(X_train[\"x2\"], Y_train)\n",
    "plt.title(\"Training database - Scatter plot\")\n",
    "plt.xlabel(\"Features\")\n",
    "plt.ylabel(\"Target\")\n",
    "plt.show()\n",
    "\n",
    "plt.figure()\n",
    "plt.scatter(X_train[\"x2\"], Y_train)\n",
    "plt.title(\"Training database - Scatter plot\")\n",
    "plt.xlabel(\"Features\")\n",
    "plt.ylabel(\"Target\")\n",
    "plt.show()"
   ]
  },
  {
   "cell_type": "code",
   "execution_count": 51,
   "metadata": {},
   "outputs": [],
   "source": [
    "# Iniciating the neural network model\n",
    "\n",
    "model = keras.Sequential([\n",
    "    keras.layers.Flatten(input_shape=(2,)),\n",
    "    keras.layers.Dense(4, activation=tf.nn.relu),\n",
    "    keras.layers.Dense(1, activation=tf.nn.sigmoid),\n",
    "])"
   ]
  },
  {
   "cell_type": "code",
   "execution_count": 52,
   "metadata": {},
   "outputs": [],
   "source": [
    "# Compiling the model\n",
    "\n",
    "model.compile(optimizer='adam',\n",
    "              loss='binary_crossentropy',\n",
    "              metrics=['accuracy'])"
   ]
  },
  {
   "cell_type": "code",
   "execution_count": 123,
   "metadata": {},
   "outputs": [
    {
     "name": "stdout",
     "output_type": "stream",
     "text": [
      "Epoch 1/10\n",
      "670/670 [==============================] - 1s 1ms/step - loss: 0.3395 - accuracy: 0.8433 - val_loss: 0.3495 - val_accuracy: 0.8394\n",
      "Epoch 2/10\n",
      "670/670 [==============================] - 1s 1ms/step - loss: 0.3387 - accuracy: 0.8463 - val_loss: 0.3497 - val_accuracy: 0.8394\n",
      "Epoch 3/10\n",
      "670/670 [==============================] - 1s 1ms/step - loss: 0.3391 - accuracy: 0.8448 - val_loss: 0.3487 - val_accuracy: 0.8394\n",
      "Epoch 4/10\n",
      "670/670 [==============================] - 1s 1ms/step - loss: 0.3386 - accuracy: 0.8433 - val_loss: 0.3487 - val_accuracy: 0.8394\n",
      "Epoch 5/10\n",
      "670/670 [==============================] - 1s 1ms/step - loss: 0.3392 - accuracy: 0.8433 - val_loss: 0.3481 - val_accuracy: 0.8394\n",
      "Epoch 6/10\n",
      "670/670 [==============================] - 1s 1ms/step - loss: 0.3386 - accuracy: 0.8433 - val_loss: 0.3482 - val_accuracy: 0.8394\n",
      "Epoch 7/10\n",
      "670/670 [==============================] - 1s 1ms/step - loss: 0.3382 - accuracy: 0.8478 - val_loss: 0.3478 - val_accuracy: 0.8424\n",
      "Epoch 8/10\n",
      "670/670 [==============================] - 1s 1ms/step - loss: 0.3380 - accuracy: 0.8448 - val_loss: 0.3482 - val_accuracy: 0.8424\n",
      "Epoch 9/10\n",
      "670/670 [==============================] - 1s 1ms/step - loss: 0.3391 - accuracy: 0.8433 - val_loss: 0.3476 - val_accuracy: 0.8394\n",
      "Epoch 10/10\n",
      "670/670 [==============================] - 1s 1ms/step - loss: 0.3383 - accuracy: 0.8433 - val_loss: 0.3476 - val_accuracy: 0.8394\n",
      "11/11 [==============================] - 0s 1ms/step - loss: 0.3476 - accuracy: 0.8394\n",
      "\n",
      "Evaluating the model...\n",
      "\n",
      "\n"
     ]
    },
    {
     "data": {
      "text/html": [
       "<div>\n",
       "<style scoped>\n",
       "    .dataframe tbody tr th:only-of-type {\n",
       "        vertical-align: middle;\n",
       "    }\n",
       "\n",
       "    .dataframe tbody tr th {\n",
       "        vertical-align: top;\n",
       "    }\n",
       "\n",
       "    .dataframe thead th {\n",
       "        text-align: right;\n",
       "    }\n",
       "</style>\n",
       "<table border=\"1\" class=\"dataframe\">\n",
       "  <thead>\n",
       "    <tr style=\"text-align: right;\">\n",
       "      <th></th>\n",
       "      <th>x1</th>\n",
       "      <th>x2</th>\n",
       "    </tr>\n",
       "  </thead>\n",
       "  <tbody>\n",
       "    <tr>\n",
       "      <th>Precision</th>\n",
       "      <td>0.86</td>\n",
       "      <td>0.82</td>\n",
       "    </tr>\n",
       "    <tr>\n",
       "      <th>Recall</th>\n",
       "      <td>0.82</td>\n",
       "      <td>0.86</td>\n",
       "    </tr>\n",
       "    <tr>\n",
       "      <th>F2-Score</th>\n",
       "      <td>0.83</td>\n",
       "      <td>0.85</td>\n",
       "    </tr>\n",
       "  </tbody>\n",
       "</table>\n",
       "</div>"
      ],
      "text/plain": [
       "             x1    x2\n",
       "Precision  0.86  0.82\n",
       "Recall     0.82  0.86\n",
       "F2-Score   0.83  0.85"
      ]
     },
     "execution_count": 123,
     "metadata": {},
     "output_type": "execute_result"
    }
   ],
   "source": [
    "# Fitting and evaluating the model\n",
    "\n",
    "e = 10 # Number of epochs\n",
    "\n",
    "h = model.fit(X_train, Y_train, validation_data=(X_test, Y_test), epochs=e, batch_size=1)\n",
    "\n",
    "test_loss, test_acc = model.evaluate(X_test, Y_test)\n",
    "\n",
    "# Predicting the model using the test dataset\n",
    "\n",
    "Pred_Y = np.around(model.predict(X_test), decimals=0)\n",
    "\n",
    "# Evaluation using the metrics precision, recall, f2-score and support\n",
    "\n",
    "print(\"\\nEvaluating the model...\\n\\n\")\n",
    "evaluation = np.array(precision_recall_fscore_support(Y_test, Pred_Y, beta=2.0))[:3]\n",
    "pd.DataFrame(data=np.round(evaluation, 2),\n",
    "             columns=list(test)[0:2],\n",
    "             index=['Precision', 'Recall', 'F2-Score'])"
   ]
  },
  {
   "cell_type": "code",
   "execution_count": null,
   "metadata": {},
   "outputs": [],
   "source": []
  }
 ],
 "metadata": {
  "kernelspec": {
   "display_name": "Python 3",
   "language": "python",
   "name": "python3"
  },
  "language_info": {
   "codemirror_mode": {
    "name": "ipython",
    "version": 3
   },
   "file_extension": ".py",
   "mimetype": "text/x-python",
   "name": "python",
   "nbconvert_exporter": "python",
   "pygments_lexer": "ipython3",
   "version": "3.7.6"
  }
 },
 "nbformat": 4,
 "nbformat_minor": 4
}
